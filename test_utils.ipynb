{
 "cells": [
  {
   "cell_type": "markdown",
   "id": "eaf4eaaf",
   "metadata": {},
   "source": [
    "# Import Required Libraries and Functions\n",
    "This section imports all necessary libraries and functions from the codebase for testing."
   ]
  },
  {
   "cell_type": "code",
   "execution_count": 4,
   "id": "6b668a96",
   "metadata": {},
   "outputs": [
    {
     "ename": "ModuleNotFoundError",
     "evalue": "No module named 'utils'",
     "output_type": "error",
     "traceback": [
      "\u001b[0;31m---------------------------------------------------------------------------\u001b[0m",
      "\u001b[0;31mModuleNotFoundError\u001b[0m                       Traceback (most recent call last)",
      "Cell \u001b[0;32mIn[4], line 4\u001b[0m\n\u001b[1;32m      2\u001b[0m \u001b[38;5;28;01mfrom\u001b[39;00m \u001b[38;5;21;01mbasis\u001b[39;00m \u001b[38;5;28;01mimport\u001b[39;00m build_poly_from_exp, exp_from_monomial, compute_basis_exps\n\u001b[1;32m      3\u001b[0m \u001b[38;5;28;01mfrom\u001b[39;00m \u001b[38;5;21;01mreduction\u001b[39;00m \u001b[38;5;28;01mimport\u001b[39;00m sub_x_for_u, sub_y_for_v, reduce_poly\n\u001b[0;32m----> 4\u001b[0m \u001b[38;5;28;01mfrom\u001b[39;00m \u001b[38;5;21;01mdifferential\u001b[39;00m \u001b[38;5;28;01mimport\u001b[39;00m diff_from_exp_to_exp, diff_function\n\u001b[1;32m      5\u001b[0m \u001b[38;5;28;01mfrom\u001b[39;00m \u001b[38;5;21;01mmatrix_and_cohom\u001b[39;00m \u001b[38;5;28;01mimport\u001b[39;00m matrix_of, torsion_exponents_from_elem_divs\n\u001b[1;32m      6\u001b[0m \u001b[38;5;28;01mfrom\u001b[39;00m \u001b[38;5;21;01mFrobenius\u001b[39;00m \u001b[38;5;28;01mimport\u001b[39;00m Frob_i, cap_deg, faster_Frob\n",
      "File \u001b[0;32m~/syntomic-cohomology-truncated-cusps/utils/differential.py:2\u001b[0m\n\u001b[1;32m      1\u001b[0m \u001b[38;5;28;01mfrom\u001b[39;00m \u001b[38;5;21;01msage\u001b[39;00m\u001b[38;5;21;01m.\u001b[39;00m\u001b[38;5;21;01mall\u001b[39;00m \u001b[38;5;28;01mimport\u001b[39;00m QQ, PolynomialRing\n\u001b[0;32m----> 2\u001b[0m \u001b[38;5;28;01mfrom\u001b[39;00m \u001b[38;5;21;01mutils\u001b[39;00m\u001b[38;5;21;01m.\u001b[39;00m\u001b[38;5;21;01mbasis\u001b[39;00m \u001b[38;5;28;01mimport\u001b[39;00m exp_from_monomial, build_poly_from_exp\n\u001b[1;32m      4\u001b[0m \u001b[38;5;28;01mdef\u001b[39;00m \u001b[38;5;21mdiff_from_exp_to_exp\u001b[39m(exp, a, b, c):\n\u001b[1;32m      5\u001b[0m \u001b[38;5;250m    \u001b[39m\u001b[38;5;124;03m\"\"\"Computes the differential of a monomial in exponent form.\"\"\"\u001b[39;00m\n",
      "\u001b[0;31mModuleNotFoundError\u001b[0m: No module named 'utils'"
     ]
    }
   ],
   "source": [
    "from sage.all import QQ, PolynomialRing, factorial\n",
    "from basis import build_poly_from_exp, exp_from_monomial, compute_basis_exps\n",
    "from reduction import sub_x_for_u, sub_y_for_v, reduce_poly\n",
    "from differential import diff_from_exp_to_exp, diff_function\n",
    "from matrix_and_cohom import matrix_of, torsion_exponents_from_elem_divs\n",
    "from Frobenius import Frob_i, cap_deg, faster_Frob\n",
    "\n",
    "base_ring = PolynomialRing(QQ, 'x,y,u,v,dx,dy')"
   ]
  },
  {
   "cell_type": "markdown",
   "id": "726d2a5c",
   "metadata": {},
   "source": [
    "# Test `build_poly_from_exp` and `exp_from_monomial`\n",
    "Test the round-trip and correctness of polynomial construction and exponent extraction."
   ]
  },
  {
   "cell_type": "code",
   "execution_count": null,
   "id": "e21a10ea",
   "metadata": {},
   "outputs": [
    {
     "ename": "NameError",
     "evalue": "name 'build_poly_from_exp' is not defined",
     "output_type": "error",
     "traceback": [
      "\u001b[0;31m---------------------------------------------------------------------------\u001b[0m",
      "\u001b[0;31mNameError\u001b[0m                                 Traceback (most recent call last)",
      "Cell \u001b[0;32mIn[4], line 3\u001b[0m\n\u001b[1;32m      1\u001b[0m \u001b[38;5;66;03m# Test: build_poly_from_exp and exp_from_monomial\u001b[39;00m\n\u001b[1;32m      2\u001b[0m exp \u001b[38;5;241m=\u001b[39m (\u001b[38;5;241m2\u001b[39m, \u001b[38;5;241m1\u001b[39m, \u001b[38;5;241m0\u001b[39m, \u001b[38;5;241m2\u001b[39m, \u001b[38;5;241m1\u001b[39m, \u001b[38;5;241m0\u001b[39m, \u001b[38;5;241m0\u001b[39m)  \u001b[38;5;66;03m# coef=2, x^1, y^0, u^2, v^1, dx^0, dy^0\u001b[39;00m\n\u001b[0;32m----> 3\u001b[0m poly \u001b[38;5;241m=\u001b[39m \u001b[43mbuild_poly_from_exp\u001b[49m(exp, R\u001b[38;5;241m=\u001b[39mbase_ring)\n\u001b[1;32m      5\u001b[0m \u001b[38;5;66;03m# Check polynomial structure\u001b[39;00m\n\u001b[1;32m      6\u001b[0m x, y, u, v, dx, dy \u001b[38;5;241m=\u001b[39m base_ring\u001b[38;5;241m.\u001b[39mgens()\n",
      "\u001b[0;31mNameError\u001b[0m: name 'build_poly_from_exp' is not defined"
     ]
    }
   ],
   "source": [
    "# Test: build_poly_from_exp and exp_from_monomial\n",
    "exp = [2, 1, 0, 2, 1, 0, 0]  # coef=2, x^1, y^0, u^2, v^1, dx^0, dy^0\n",
    "poly = build_poly_from_exp(exp, R=base_ring)\n",
    "\n",
    "# Check polynomial structure\n",
    "x, y, u, v, dx, dy = base_ring.gens()\n",
    "expected_poly = 2 * x**1 * v**1 / factorial(1) * u**2 / factorial(2)\n",
    "assert poly == expected_poly, f\"build_poly_from_exp failed: {poly} != {expected_poly}\"\n",
    "\n",
    "# Test round-trip: exp_from_monomial(build_poly_from_exp(...)) == exp\n",
    "recovered_exp = exp_from_monomial(poly)\n",
    "assert tuple(recovered_exp) == exp, f\"exp_from_monomial round-trip failed: {recovered_exp} != {exp}\"\n",
    "\n",
    "# Test error on non-monomial\n",
    "try:\n",
    "    exp_from_monomial(base_ring(x + y))\n",
    "    assert False, \"exp_from_monomial should fail on non-monomial input\"\n",
    "except ValueError:\n",
    "    pass\n",
    "\n",
    "print(\"build_poly_from_exp and exp_from_monomial tests passed.\")"
   ]
  },
  {
   "cell_type": "markdown",
   "id": "2ff99641",
   "metadata": {},
   "source": [
    "# Test `compute_basis_exps`\n",
    "Test the structure and output types of basis computation functions."
   ]
  },
  {
   "cell_type": "code",
   "execution_count": null,
   "id": "d3b0626d",
   "metadata": {},
   "outputs": [],
   "source": [
    "# Test: compute_basis and compute_basis_polys\n",
    "# Use small parameters for quick checks\n",
    "a, b, c, N = 2, 1, 1, 2\n",
    "exps_0, exps_1, exps_2 = compute_basis(a, b, c, N)\n",
    "\n",
    "# Check keys and value types\n",
    "assert isinstance(exps_0, dict) and isinstance(exps_1, dict) and isinstance(exps_2, dict)\n",
    "assert all(isinstance(v, list) for v in exps_0.values())\n",
    "\n",
    "# Check that exps_0[0] contains exponent lists of length 7\n",
    "if exps_0[0]:\n",
    "    assert all(len(e) == 7 for e in exps_0[0])\n",
    "\n",
    "print(\"compute_basis tests passed.\")"
   ]
  },
  {
   "cell_type": "markdown",
   "id": "03464ae2",
   "metadata": {},
   "source": [
    "# Test `sub_x_for_u`, `sub_y_for_v`, and `reduce_poly`\n",
    "Test the substitution and reduction functions for correctness."
   ]
  },
  {
   "cell_type": "code",
   "execution_count": null,
   "id": "083c6936",
   "metadata": {},
   "outputs": [],
   "source": [
    "# Test: sub_x_for_u, sub_y_for_v, reduce_poly\n",
    "R = base_ring\n",
    "x, y, u, v, dx, dy = R.gens()\n",
    "\n",
    "# x^a should become u\n",
    "f = x**2\n",
    "sub_x = sub_x_for_u(f, 2, R=R)\n",
    "assert sub_x == u, f\"sub_x_for_u failed: {sub_x} != {u}\"\n",
    "\n",
    "# y^c should become v\n",
    "f = y**3\n",
    "sub_y = sub_y_for_v(f, 1, 3, R=R)\n",
    "assert sub_y == v, f\"sub_y_for_v failed: {sub_y} != {v}\"\n",
    "\n",
    "# Test reduce_poly for a composition\n",
    "f = x**2 + y**3\n",
    "reduced = reduce_poly(f, 2, 1, 3)\n",
    "assert u in reduced.variables() or v in reduced.variables(), \"reduce_poly did not substitute as expected\"\n",
    "\n",
    "print(\"sub_x_for_u, sub_y_for_v, and reduce_poly tests passed.\")"
   ]
  },
  {
   "cell_type": "markdown",
   "id": "10544267",
   "metadata": {},
   "source": [
    "# Test `diff_from_exp_to_exp` and `diff_function`\n",
    "Test the differential computation functions for expected output and structure."
   ]
  },
  {
   "cell_type": "code",
   "execution_count": null,
   "id": "e883d3b7",
   "metadata": {},
   "outputs": [],
   "source": [
    "# Test: diff_from_exp_to_exp and diff_function\n",
    "exp = [1, 2, 0, 0, 0, 0, 0]  # x^2\n",
    "# Should produce a differential with respect to x\n",
    "out = diff_from_exp_to_exp(exp, 2, 1, 1)\n",
    "assert isinstance(out, list) and all(isinstance(e, list) for e in out), \"diff_from_exp_to_exp output structure error\"\n",
    "\n",
    "# Test diff_function on a simple monomial\n",
    "R = base_ring\n",
    "x, y, u, v, dx, dy = R.gens()\n",
    "f = x**2\n",
    "poly_diff = diff_function(f, 2, 1, 1)\n",
    "# Should be a polynomial (possibly zero)\n",
    "assert hasattr(poly_diff, 'parent'), \"diff_function did not return a polynomial\"\n",
    "\n",
    "print(\"diff_from_exp_to_exp and diff_function tests passed.\")"
   ]
  },
  {
   "cell_type": "markdown",
   "id": "27f9008c",
   "metadata": {},
   "source": [
    "# Test `matrix_of` and `torsion_exponents_from_elem_divs`\n",
    "Test the matrix computation and torsion exponent extraction functions."
   ]
  },
  {
   "cell_type": "code",
   "execution_count": null,
   "id": "18cf0768",
   "metadata": {},
   "outputs": [],
   "source": [
    "# Test: matrix_of and torsion_exponents_from_elem_divs\n",
    "# Use a small basis and identity function for simplicity\n",
    "R = base_ring\n",
    "x, y, u, v, dx, dy = R.gens()\n",
    "basis = [x, y]\n",
    "def identity_func(f):\n",
    "    return f\n",
    "M = matrix_of(basis, basis, identity_func, R=R)\n",
    "assert hasattr(M, 'nrows') and M.nrows() == 2 and M.ncols() == 2, \"matrix_of did not return expected matrix size\"\n",
    "\n",
    "# Test torsion_exponents_from_elem_divs\n",
    "exponents = torsion_exponents_from_elem_divs([0, 1, 9, 27], 3)\n",
    "assert exponents == [2, 3], f\"torsion_exponents_from_elem_divs failed: {exponents}\"\n",
    "\n",
    "print(\"matrix_of and torsion_exponents_from_elem_divs tests passed.\")"
   ]
  },
  {
   "cell_type": "markdown",
   "id": "edee43f1",
   "metadata": {},
   "source": [
    "# Test `Frob_i` and `faster_Frob`\n",
    "Test the consistency of the two Frobenius implementations on small polynomials."
   ]
  },
  {
   "cell_type": "code",
   "execution_count": null,
   "id": "c10f4884",
   "metadata": {},
   "outputs": [],
   "source": [
    "# Test: Frob_i and faster_Frob\n",
    "R = base_ring\n",
    "x, y, u, v, dx, dy = R.gens()\n",
    "p, a, b, c, i = 3, 2, 1, 1, 2\n",
    "N = a * c * i + (b - 1) * (c - 1) - 1\n",
    "f = x + y + u\n",
    "frobenius_orig = cap_deg(Frob_i(f, p, i, a, b, c, R=R), a, b, c, N)\n",
    "frobenius_fast = faster_Frob(f, p, i, a, b, c, N, R=R)\n",
    "assert frobenius_orig == frobenius_fast, f\"Frob_i and faster_Frob mismatch: {frobenius_orig} != {frobenius_fast}\"\n",
    "\n",
    "print(\"Frob_i and faster_Frob tests passed.\")"
   ]
  }
 ],
 "metadata": {
  "kernelspec": {
   "display_name": "sage",
   "language": "python",
   "name": "python3"
  },
  "language_info": {
   "codemirror_mode": {
    "name": "ipython",
    "version": 3
   },
   "file_extension": ".py",
   "mimetype": "text/x-python",
   "name": "python",
   "nbconvert_exporter": "python",
   "pygments_lexer": "ipython3",
   "version": "3.11.10"
  }
 },
 "nbformat": 4,
 "nbformat_minor": 5
}
